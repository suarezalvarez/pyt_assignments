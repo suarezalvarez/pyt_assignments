{
 "cells": [
  {
   "cell_type": "code",
   "execution_count": null,
   "id": "81292b2d-1c76-4c07-914f-9421a56b1537",
   "metadata": {},
   "outputs": [],
   "source": [
    "a"
   ]
  }
 ],
 "metadata": {
  "kernelspec": {
   "display_name": "pyt24",
   "language": "python",
   "name": "pyt24"
  },
  "language_info": {
   "codemirror_mode": {
    "name": "ipython",
    "version": 3
   },
   "file_extension": ".py",
   "mimetype": "text/x-python",
   "name": "python",
   "nbconvert_exporter": "python",
   "pygments_lexer": "ipython3",
   "version": "3.12.1"
  }
 },
 "nbformat": 4,
 "nbformat_minor": 5
}
